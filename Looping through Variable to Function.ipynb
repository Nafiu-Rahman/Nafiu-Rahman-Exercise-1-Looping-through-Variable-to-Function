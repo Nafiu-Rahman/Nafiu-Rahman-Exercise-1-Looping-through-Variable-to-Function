{
 "cells": [
  {
   "cell_type": "markdown",
   "metadata": {},
   "source": [
    "# 👨‍💻 Python Hands-On Assignment (Easy to Medium Level)\n",
    "\n",
    "**Topics Covered:**  \n",
    "Variables · Operators · Loops · Conditionals · Functions · File Handling"
   ]
  },
  {
   "cell_type": "markdown",
   "metadata": {},
   "source": [
    "## Level 1: Warm-Up\n",
    "Example of writing using this notebook. First tell me your Full Name, please!"
   ]
  },
  {
   "cell_type": "code",
   "execution_count": 1,
   "metadata": {},
   "outputs": [
    {
     "name": "stdin",
     "output_type": "stream",
     "text": [
      "Enter your name:  Nafiu Rahman\n"
     ]
    },
    {
     "data": {
      "text/plain": [
       "'Nafiu Rahman'"
      ]
     },
     "execution_count": 1,
     "metadata": {},
     "output_type": "execute_result"
    }
   ],
   "source": [
    "student_name = input(\"Enter your name: \")\n",
    "student_name"
   ]
  },
  {
   "cell_type": "markdown",
   "metadata": {},
   "source": [
    "### 1. Greet the User\n",
    "Write a function `greet_user()` that asks the user for their name and prints a welcome message."
   ]
  },
  {
   "cell_type": "markdown",
   "metadata": {},
   "source": [
    "### Your code here\n",
    "def greet_user():\n",
    "    \"\"\"\n",
    "    This function prints a greeting message to the user.\n",
    "    \"\"\"\n",
    "    name = input(\"Please enter your name: \")\n",
    "    print(f\"Hello, {name}! Welcome to the program.\")\n",
    "\n",
    "# Test function. \n",
    "if __name__ == \"__main__\":\n",
    "    print(\"Testing greet_user function...\")\n",
    "    greet_user()"
   ]
  },
  {
   "cell_type": "markdown",
   "metadata": {},
   "source": [
    "### 2. Area Calculator\n",
    "Create a function `calculate_area(length, width)` that returns the area of a rectangle."
   ]
  },
  {
   "cell_type": "code",
   "execution_count": 3,
   "metadata": {},
   "outputs": [
    {
     "name": "stdout",
     "output_type": "stream",
     "text": [
      "60\n"
     ]
    }
   ],
   "source": [
    "# Your code here\n",
    "def calculate_area(length, width):\n",
    "    return length * width #area = length * width\n",
    "\n",
    "# Test function. Don't modify this.\n",
    "if __name__ == \"__main__\":\n",
    "    area = calculate_area(15, 4) \n",
    "    print(area) # Expected output: 60"
   ]
  },
  {
   "cell_type": "markdown",
   "metadata": {},
   "source": [
    "## Level 2: Conditionals and Loops"
   ]
  },
  {
   "cell_type": "markdown",
   "metadata": {},
   "source": [
    "### 3. Even or Odd Checker\n",
    "Ask the user for a number and check whether it is even or odd."
   ]
  },
  {
   "cell_type": "markdown",
   "metadata": {},
   "source": [
    "### count = int(input(\"Enter number of test cases:\"))\n",
    "\n",
    "while count > 0:\n",
    "    number = int(input(\"Enter a number: \"))\n",
    "\n",
    "    #Calculate the remainder and check if it is greater than 0, indicating an odd number\n",
    "    mod = number % 2\n",
    "\n",
    "    if mod > 0:\n",
    "        print(\"This is an odd number.\")\n",
    "    else:\n",
    "        print(\"This is an even number.\")\n",
    "    count-=1"
   ]
  },
  {
   "cell_type": "markdown",
   "metadata": {},
   "source": [
    "### 4. Multiplication Table Generator\n",
    "Write a function `print_table(n)` that prints the multiplication table of `n` up to 10."
   ]
  },
  {
   "cell_type": "code",
   "execution_count": 5,
   "metadata": {},
   "outputs": [
    {
     "name": "stdout",
     "output_type": "stream",
     "text": [
      "10 x 1 = 10\n",
      "10 x 2 = 20\n",
      "10 x 3 = 30\n",
      "10 x 4 = 40\n",
      "10 x 5 = 50\n",
      "10 x 6 = 60\n",
      "10 x 7 = 70\n",
      "10 x 8 = 80\n",
      "10 x 9 = 90\n",
      "10 x 10 = 100\n"
     ]
    }
   ],
   "source": [
    "# Your code here\n",
    "def print_table(n):\n",
    "    for i in range(10):\n",
    "        result = n * (i + 1);\n",
    "        print(f\"{n} x {(i + 1)} = {result}\")\n",
    "\n",
    "# Test function. Don't modify this.\n",
    "if __name__ == \"__main__\":\n",
    "    print_table(10) \n",
    "    \"\"\"\n",
    "    Expected output: \n",
    "    10 x 1 = 10\n",
    "    10 x 2 = 20\n",
    "    ...4q \n",
    "    \n",
    "    10 x 10 = 100\n",
    "    \"\"\""
   ]
  },
  {
   "cell_type": "markdown",
   "metadata": {},
   "source": [
    "### 5. Password Strength Checker\n",
    "Ask the user to enter a password and check if it is strong based on given conditions:\n",
    "- It should contain at least:\n",
    "    - one capital letter\n",
    "    - one small letter\n",
    "    - one digit"
   ]
  },
  {
   "cell_type": "markdown",
   "metadata": {},
   "source": [
    "def check_password_strength():\n",
    "    password = input(\"Enter your password: \")\n",
    "    \n",
    "    has_upper = False\n",
    "    for letter in password:\n",
    "        if letter.isupper():\n",
    "            has_upper = True\n",
    "            break\n",
    "\n",
    "    has_lower = False\n",
    "    for letter in password:\n",
    "        if letter.islower():\n",
    "            has_lower = True\n",
    "            break\n",
    "\n",
    "    has_digit = False\n",
    "    for letter in password:\n",
    "        if letter.isdigit():\n",
    "            has_digit = True\n",
    "            break\n",
    "\n",
    "    criteria_met = sum([has_upper, has_lower, has_digit])\n",
    "    \n",
    "    if criteria_met == 3:\n",
    "        print(\"Strong password\")\n",
    "    elif criteria_met == 2:\n",
    "        print(\"Normal password\")\n",
    "    else:\n",
    "        print(\"Weak password\")\n",
    "        \n",
    "count = int(input(\"Enter number of test cases:\"))\n",
    "while count > 0:\n",
    "    check_password_strength()\n",
    "    count-=1"
   ]
  },
  {
   "cell_type": "markdown",
   "metadata": {},
   "source": [
    "## Level 3: Loop + Function"
   ]
  },
  {
   "cell_type": "markdown",
   "metadata": {},
   "source": [
    "### 6. Prime Number Finder\n",
    "Create a function `is_prime(n)` and print all prime numbers from 1 to 100."
   ]
  },
  {
   "cell_type": "code",
   "execution_count": 7,
   "metadata": {},
   "outputs": [
    {
     "name": "stdout",
     "output_type": "stream",
     "text": [
      "2\n",
      "3\n",
      "5\n",
      "7\n",
      "11\n",
      "13\n",
      "17\n",
      "19\n",
      "23\n",
      "29\n",
      "31\n",
      "37\n",
      "41\n",
      "43\n",
      "47\n",
      "53\n",
      "59\n",
      "61\n",
      "67\n",
      "71\n",
      "73\n",
      "79\n",
      "83\n",
      "89\n",
      "97\n"
     ]
    }
   ],
   "source": [
    "def is_prime(n):\n",
    "    if n < 2:\n",
    "        return False #if the number is less than 2 then its not a prime \n",
    "    #check upto sqrt(n) because if n has anyfactors other than 1 and itself then at least one of them is less than sqrt(n)\n",
    "    #checking up to sqrt(n)+1 to not miss the number sqrt(n),like int(sqrt(29))=5. So without +1 the range will be [1,2,3,4] and 5 will be missed\n",
    "\n",
    "    for i in range(2, int(n ** 0.5) + 1):\n",
    "        if n % i == 0:\n",
    "            return False\n",
    "    return True\n",
    "\n",
    "for i in range(101):\n",
    "    if is_prime(i) == True:\n",
    "        print(i)\n"
   ]
  },
  {
   "cell_type": "markdown",
   "metadata": {},
   "source": [
    "## Level 4: File Handling"
   ]
  },
  {
   "cell_type": "markdown",
   "metadata": {},
   "source": [
    "### 7. Write to File: Shopping List\n",
    "Ask the user for 5 shopping items and write them to a file `shopping_list.txt`."
   ]
  },
  {
   "cell_type": "code",
   "execution_count": 8,
   "metadata": {},
   "outputs": [
    {
     "name": "stdin",
     "output_type": "stream",
     "text": [
      "Enter item 1:  milk\n",
      "Enter item 2:  bread\n",
      "Enter item 3:  oil\n",
      "Enter item 4:  rice\n",
      "Enter item 5:  meat\n"
     ]
    }
   ],
   "source": [
    "file = open(\"shopping_list.txt\", \"w\")\n",
    "for i in range(5):\n",
    "    item = input(f\"Enter item {i + 1}: \")\n",
    "    file.write(item + \"\\n\")\n",
    "file.close()"
   ]
  },
  {
   "cell_type": "markdown",
   "metadata": {},
   "source": [
    "### 8. Read and Count Words\n",
    "Read a file `sample.txt` and count the number of words in it."
   ]
  },
  {
   "cell_type": "code",
   "execution_count": 9,
   "metadata": {},
   "outputs": [
    {
     "name": "stdout",
     "output_type": "stream",
     "text": [
      "Total words: 284\n"
     ]
    }
   ],
   "source": [
    "file = open(\"sample.txt\", \"r\")\n",
    "content = file.read()\n",
    "words = content.split() #breaks the entire string into list of words.\n",
    "print(\"Total words:\", len(words))\n",
    "file.close()"
   ]
  },
  {
   "cell_type": "markdown",
   "metadata": {},
   "source": [
    "## Level 5: Integration Challenge"
   ]
  },
  {
   "cell_type": "markdown",
   "metadata": {},
   "source": [
    "### 9. Student Gradebook\n",
    "- Ask for the number of students\n",
    "- Get each student's name and marks\n",
    "- Store them in a dictionary\n",
    "- Write name and \"Pass\" or \"Fail\" to `grades.txt` (Pass if marks ≥ 40)"
   ]
  },
  {
   "cell_type": "code",
   "execution_count": 10,
   "metadata": {},
   "outputs": [
    {
     "name": "stdin",
     "output_type": "stream",
     "text": [
      "Enter number of students:  5\n",
      "Student name:  nafiu\n",
      "Marks:  85\n",
      "Student name:  rohan\n",
      "Marks:  67\n",
      "Student name:  raju\n",
      "Marks:  33\n",
      "Student name:  rahim\n",
      "Marks:  40\n",
      "Student name:  sajid\n",
      "Marks:  90\n"
     ]
    }
   ],
   "source": [
    "num_students = int(input(\"Enter number of students: \"))\n",
    "grades = {}\n",
    "\n",
    "for _ in range(num_students):\n",
    "    name = input(\"Student name: \")\n",
    "    marks = int(input(\"Marks: \"))\n",
    "    grades[name] = marks\n",
    "    \n",
    "file = open(\"grades.txt\", \"w\")\n",
    "for name, marks in grades.items():\n",
    "    if marks >= 40:\n",
    "        result = \"Pass\"\n",
    "    else:\n",
    "        result = \"Fail\"\n",
    "    file.write(f\"{name}: {result}\\n\")\n",
    "\n",
    "file.close()"
   ]
  },
  {
   "cell_type": "markdown",
   "metadata": {},
   "source": [
    "## Level 6: Programming Challenges (Bonus)"
   ]
  },
  {
   "cell_type": "markdown",
   "metadata": {},
   "source": [
    "### 10. Leetcode\n",
    "Follow the below links and solve as many as you can. Provide you submission links."
   ]
  },
  {
   "cell_type": "code",
   "execution_count": 11,
   "metadata": {},
   "outputs": [],
   "source": [
    "# Problem 1. https://leetcode.com/problems/defanging-an-ip-address/description/\n",
    "pass # https://leetcode.com/problems/defanging-an-ip-address/submissions/1641823850/\n",
    "\n",
    "# Problem 2. https://leetcode.com/problems/valid-parentheses/\n",
    "pass # https://leetcode.com/problems/valid-parentheses/submissions/1641836558/\n",
    "\n",
    "# Problem 3. https://leetcode.com/problems/merge-two-sorted-lists/\n",
    "pass # your submission link/code here\n",
    "\n",
    "# Problem 4. https://leetcode.com/problems/jewels-and-stones/description/\n",
    "pass # https://leetcode.com/problems/jewels-and-stones/submissions/1641850776/\n",
    "\n",
    "# Problem 5. https://leetcode.com/problems/longest-common-prefix/\n",
    "pass # your submission link/code here"
   ]
  },
  {
   "cell_type": "code",
   "execution_count": null,
   "metadata": {},
   "outputs": [],
   "source": []
  }
 ],
 "metadata": {
  "kernelspec": {
   "display_name": "Python 3 (ipykernel)",
   "language": "python",
   "name": "python3"
  },
  "language_info": {
   "codemirror_mode": {
    "name": "ipython",
    "version": 3
   },
   "file_extension": ".py",
   "mimetype": "text/x-python",
   "name": "python",
   "nbconvert_exporter": "python",
   "pygments_lexer": "ipython3",
   "version": "3.13.3"
  }
 },
 "nbformat": 4,
 "nbformat_minor": 4
}
